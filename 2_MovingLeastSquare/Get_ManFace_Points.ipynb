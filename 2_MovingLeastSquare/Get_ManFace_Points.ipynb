{
 "cells": [
  {
   "cell_type": "code",
   "execution_count": 1,
   "metadata": {},
   "outputs": [],
   "source": [
    "import urllib.request\n",
    "import base64\n",
    "import json"
   ]
  },
  {
   "cell_type": "code",
   "execution_count": 21,
   "metadata": {},
   "outputs": [],
   "source": [
    "def get_man_points(man_path):\n",
    "    '''\n",
    "    以下代码参考旷视Face++API文档：https://console.faceplusplus.com.cn/documents/6329752 \n",
    "    '''\n",
    "    http_url = 'https://api-cn.faceplusplus.com/facepp/v3/detect'\n",
    "    key = \"RuF7pDgXRAl0EfZjZrWIYElt_QoO-XhN\"\n",
    "    secret = \"lpUhYiPv8dSdFgMyjkaBKvO2X1nbKzv1\"\n",
    "    filepath = man_path\n",
    "    #打开人脸图片\n",
    "    fr = open(filepath,\"rb\")\n",
    "    b64str = base64.b64encode(fr.read())\n",
    "    fr.close()\n",
    "    # API接口\n",
    "    para={'api_key':key,'api_secret':secret,'image_base64':b64str,'return_landmark':1}\n",
    "    DATA=urllib.parse.urlencode(para).encode(\"utf-8\")\n",
    "    # build http request\n",
    "    req= urllib.request.urlopen(url=http_url, data=DATA)\n",
    "    faceData=json.loads(req.read())\n",
    "    #基准点\n",
    "    man_points={}\n",
    "    #'''眼睛'''----------------------------------------------------------------\n",
    "    #左眼左眼角\n",
    "    man_points['left_eye_left_corner']=faceData['faces'][0]['landmark']['left_eye_left_corner']\n",
    "    #左眼右眼角\n",
    "    man_points['left_eye_right_corner']=faceData['faces'][0]['landmark']['left_eye_right_corner']\n",
    "    #左眼中心点\n",
    "    #man_points['left_eye_center']=faceData['faces'][0]['landmark']['left_eye_center']\n",
    "    #man_points['left_eye_upper_right_quarter']=faceData['faces'][0]['landmark']['left_eye_upper_right_quarter']\n",
    "    #右眼位置同左眼\n",
    "    man_points['right_eye_left_corner']=faceData['faces'][0]['landmark']['right_eye_left_corner']\n",
    "    man_points['right_eye_right_corner']=faceData['faces'][0]['landmark']['right_eye_right_corner']\n",
    "    \n",
    "    #man_points['eyebrow_center']=faceData['faces'][0]['landmark']['eyebrow_center']\n",
    "    #man_points['right_eye_center']=faceData['faces'][0]['landmark']['right_eye_center']\n",
    "    #man_points['right_eye_upper_right_quarter']=faceData['faces'][0]['landmark']['right_eye_upper_right_quarter']\n",
    "    #'''鼻子'''----------------------------------------------------------------\n",
    "    #man_points['nose_contour_left1']=faceData['faces'][0]['landmark']['nose_contour_left1']\n",
    "    #man_points['nose_contour_right1']=faceData['faces'][0]['landmark']['nose_contour_right1']\n",
    "    #左鼻翼\n",
    "    man_points['nose_left']=faceData['faces'][0]['landmark']['nose_left']\n",
    "    #右鼻翼\n",
    "    man_points['nose_right']=faceData['faces'][0]['landmark']['nose_right']\n",
    "    #鼻尖\n",
    "    man_points['nose_tip']=faceData['faces'][0]['landmark']['nose_tip']\n",
    "    \n",
    "    #man_points['nose_center']=faceData['faces'][0]['landmark']['nose_center']\n",
    "    #man_points['nose_bottom_upper']=faceData['faces'][0]['landmark']['nose_bottom_upper']\n",
    "    #man_points['nose_bottom_lower']=faceData['faces'][0]['landmark']['nose_bottom_lower']\n",
    "    #'''嘴巴'''----------------------------------------------------------------\n",
    "    man_points['mouth_left_corner']=faceData['faces'][0]['landmark']['mouth_left_corner']\n",
    "    man_points['mouth_upper_lip_bottom']=faceData['faces'][0]['landmark']['mouth_upper_lip_bottom']\n",
    "    #man_points['mouth_lower_lip_left_quarter']=faceData['faces'][0]['landmark']['mouth_lower_lip_left_quarter']\n",
    "    man_points['mouth_lower_lip_bottom']=faceData['faces'][0]['landmark']['mouth_lower_lip_bottom']\n",
    "    #man_points['mouth_lower_lip_right_quarter']=faceData['faces'][0]['landmark']['mouth_lower_lip_right_quarter']                                                                     \n",
    "    man_points['mouth_right_corner']=faceData['faces'][0]['landmark']['mouth_right_corner']\n",
    "    #man_points['mouth_center']=faceData['faces'][0]['landmark']['mouth_center']\n",
    "                                                                                 \n",
    "                                                                                 \n",
    "    #man_points['mouth_lower_lip_bottom']=faceData['faces'][0]['landmark']['mouth_lower_lip_bottom']\n",
    "    \n",
    "    man_points['mouth_lower_lip_left_contour2']=faceData['faces'][0]['landmark']['mouth_lower_lip_left_contour2']\n",
    "    man_points['mouth_lower_lip_right_contour2']=faceData['faces'][0]['landmark']['mouth_lower_lip_right_contour2']\n",
    "    \n",
    "    man_points['mouth_lower_lip_left_contour1']=faceData['faces'][0]['landmark']['mouth_lower_lip_left_contour3']\n",
    "    man_points['mouth_lower_lip_right_contour1']=faceData['faces'][0]['landmark']['mouth_lower_lip_right_contour3']\n",
    "                                                                                \n",
    "    #man_points['mouth_upper_lip_left_quarter']=faceData['faces'][0]['landmark']['mouth_upper_lip_left_quarter']\n",
    "    #man_points['mouth_upper_lip_right_quarter']=faceData['faces'][0]['landmark']['mouth_upper_lip_right_quarter']                                                                             \n",
    "                                                                                 \n",
    "    return man_points"
   ]
  },
  {
   "cell_type": "code",
   "execution_count": 23,
   "metadata": {},
   "outputs": [
    {
     "data": {
      "text/plain": [
       "{'left_eye_left_corner': {'y': 238, 'x': 150},\n",
       " 'left_eye_right_corner': {'y': 243, 'x': 212},\n",
       " 'right_eye_left_corner': {'y': 246, 'x': 303},\n",
       " 'right_eye_right_corner': {'y': 238, 'x': 369},\n",
       " 'nose_left': {'y': 326, 'x': 208},\n",
       " 'nose_right': {'y': 323, 'x': 309},\n",
       " 'nose_tip': {'y': 304, 'x': 255},\n",
       " 'mouth_left_corner': {'y': 393, 'x': 186},\n",
       " 'mouth_upper_lip_bottom': {'y': 398, 'x': 255},\n",
       " 'mouth_lower_lip_bottom': {'y': 418, 'x': 255},\n",
       " 'mouth_right_corner': {'y': 394, 'x': 327},\n",
       " 'mouth_lower_lip_left_contour2': {'y': 406, 'x': 206},\n",
       " 'mouth_lower_lip_right_contour2': {'y': 406, 'x': 305},\n",
       " 'mouth_lower_lip_left_contour1': {'y': 415, 'x': 228},\n",
       " 'mouth_lower_lip_right_contour1': {'y': 415, 'x': 282}}"
      ]
     },
     "execution_count": 23,
     "metadata": {},
     "output_type": "execute_result"
    }
   ],
   "source": [
    "get_man_points('./data/gaoxiaosong.jpg')"
   ]
  },
  {
   "cell_type": "code",
   "execution_count": 24,
   "metadata": {},
   "outputs": [
    {
     "data": {
      "text/plain": [
       "{'left_eye_left_corner': {'y': 186, 'x': 382},\n",
       " 'left_eye_right_corner': {'y': 193, 'x': 424},\n",
       " 'right_eye_left_corner': {'y': 193, 'x': 487},\n",
       " 'right_eye_right_corner': {'y': 191, 'x': 532},\n",
       " 'nose_left': {'y': 255, 'x': 420},\n",
       " 'nose_right': {'y': 260, 'x': 479},\n",
       " 'nose_tip': {'y': 252, 'x': 447},\n",
       " 'mouth_left_corner': {'y': 302, 'x': 413},\n",
       " 'mouth_upper_lip_bottom': {'y': 301, 'x': 447},\n",
       " 'mouth_lower_lip_bottom': {'y': 325, 'x': 447},\n",
       " 'mouth_right_corner': {'y': 306, 'x': 486},\n",
       " 'mouth_lower_lip_left_contour2': {'y': 313, 'x': 421},\n",
       " 'mouth_lower_lip_right_contour2': {'y': 316, 'x': 476},\n",
       " 'mouth_lower_lip_left_contour1': {'y': 321, 'x': 432},\n",
       " 'mouth_lower_lip_right_contour1': {'y': 323, 'x': 464}}"
      ]
     },
     "execution_count": 24,
     "metadata": {},
     "output_type": "execute_result"
    }
   ],
   "source": [
    "get_man_points('./data/wuyifan.jpg')"
   ]
  },
  {
   "cell_type": "code",
   "execution_count": 25,
   "metadata": {},
   "outputs": [
    {
     "data": {
      "text/plain": [
       "{'left_eye_left_corner': {'y': 383, 'x': 295},\n",
       " 'left_eye_right_corner': {'y': 384, 'x': 364},\n",
       " 'right_eye_left_corner': {'y': 371, 'x': 468},\n",
       " 'right_eye_right_corner': {'y': 359, 'x': 537},\n",
       " 'nose_left': {'y': 481, 'x': 369},\n",
       " 'nose_right': {'y': 472, 'x': 479},\n",
       " 'nose_tip': {'y': 470, 'x': 421},\n",
       " 'mouth_left_corner': {'y': 560, 'x': 358},\n",
       " 'mouth_upper_lip_bottom': {'y': 550, 'x': 429},\n",
       " 'mouth_lower_lip_bottom': {'y': 602, 'x': 433},\n",
       " 'mouth_right_corner': {'y': 545, 'x': 507},\n",
       " 'mouth_lower_lip_left_contour2': {'y': 582, 'x': 376},\n",
       " 'mouth_lower_lip_right_contour2': {'y': 571, 'x': 490},\n",
       " 'mouth_lower_lip_left_contour1': {'y': 598, 'x': 399},\n",
       " 'mouth_lower_lip_right_contour1': {'y': 591, 'x': 467}}"
      ]
     },
     "execution_count": 25,
     "metadata": {},
     "output_type": "execute_result"
    }
   ],
   "source": [
    "get_man_points('./data/zxh.jpg')"
   ]
  },
  {
   "cell_type": "code",
   "execution_count": null,
   "metadata": {},
   "outputs": [],
   "source": []
  }
 ],
 "metadata": {
  "kernelspec": {
   "display_name": "Python 3",
   "language": "python",
   "name": "python3"
  },
  "language_info": {
   "codemirror_mode": {
    "name": "ipython",
    "version": 3
   },
   "file_extension": ".py",
   "mimetype": "text/x-python",
   "name": "python",
   "nbconvert_exporter": "python",
   "pygments_lexer": "ipython3",
   "version": "3.6.5"
  }
 },
 "nbformat": 4,
 "nbformat_minor": 2
}
